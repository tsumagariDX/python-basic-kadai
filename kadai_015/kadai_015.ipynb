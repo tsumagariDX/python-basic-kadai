{
  "nbformat": 4,
  "nbformat_minor": 0,
  "metadata": {
    "colab": {
      "provenance": []
    },
    "kernelspec": {
      "name": "python3",
      "display_name": "Python 3"
    },
    "language_info": {
      "name": "python"
    }
  },
  "cells": [
    {
      "cell_type": "code",
      "source": [
        "class Human:\n",
        "  def __init__(self,name,age):\n",
        "      self.name = name\n",
        "      self.age = age\n",
        "\n",
        "  def printinfo(self):\n",
        "    print(\"名前: \", self.name)\n",
        "    print(\"年齢: \", self.age)\n",
        "\n",
        "human = Human(\"侍太郎\",\"33\")\n",
        "\n",
        "human.printinfo()"
      ],
      "metadata": {
        "colab": {
          "base_uri": "https://localhost:8080/"
        },
        "id": "_gqo6s2rfuM_",
        "outputId": "026500c5-f41a-4d22-83f6-9551f1b43a2e"
      },
      "execution_count": 14,
      "outputs": [
        {
          "output_type": "stream",
          "name": "stdout",
          "text": [
            "名前:  侍太郎\n",
            "年齢:  33\n"
          ]
        }
      ]
    }
  ]
}