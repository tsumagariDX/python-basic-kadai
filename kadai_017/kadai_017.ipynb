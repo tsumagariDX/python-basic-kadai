{
  "nbformat": 4,
  "nbformat_minor": 0,
  "metadata": {
    "colab": {
      "provenance": []
    },
    "kernelspec": {
      "name": "python3",
      "display_name": "Python 3"
    },
    "language_info": {
      "name": "python"
    }
  },
  "cells": [
    {
      "cell_type": "code",
      "source": [
        "class Human:\n",
        "  def __init__(self,name,age):\n",
        "      self.name = name\n",
        "      self.age = age\n",
        "\n",
        "  def check_adult(self):\n",
        "   if self.age >= 20:\n",
        "     print(f\"{self.name}さんは成年です\")\n",
        "   else:\n",
        "     print(f\"{self.name}さんは未成年です\")\n",
        "\n",
        "human_1 = Human(\"侍太郎\",19)\n",
        "human_2 = Human(\"侍花子\",666)\n",
        "\n",
        "humans = [human_1, human_2]\n",
        "\n",
        "for human in humans:\n",
        "     human.check_adult()"
      ],
      "metadata": {
        "colab": {
          "base_uri": "https://localhost:8080/"
        },
        "id": "1b5fFrU_jF9S",
        "outputId": "3ba83cf7-935d-427d-8473-df393d53c7de"
      },
      "execution_count": 40,
      "outputs": [
        {
          "output_type": "stream",
          "name": "stdout",
          "text": [
            "侍太郎さんは未成年です\n",
            "侍花子さんは成年です\n"
          ]
        }
      ]
    }
  ]
}