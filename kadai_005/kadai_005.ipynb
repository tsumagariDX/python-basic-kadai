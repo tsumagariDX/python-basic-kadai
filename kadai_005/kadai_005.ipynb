{
  "nbformat": 4,
  "nbformat_minor": 0,
  "metadata": {
    "colab": {
      "provenance": []
    },
    "kernelspec": {
      "name": "python3",
      "display_name": "Python 3"
    },
    "language_info": {
      "name": "python"
    }
  },
  "cells": [
    {
      "cell_type": "code",
      "source": [
        "up = 10\n",
        "dwn = 20\n",
        "hi = 5\n",
        "result = (up + dwn) * hi / 2\n",
        "\n",
        "print(\"上辺：10cm\")\n",
        "print(\"下辺：20cm\")\n",
        "print(\"高さ：5cm\")\n",
        "print(\" \")\n",
        "\n",
        "print(\"公式：台形の面積 =（上辺＋下辺）× 高さ ÷ 2\")\n",
        "print(f\"答えは{result}cm²です。\")"
      ],
      "metadata": {
        "colab": {
          "base_uri": "https://localhost:8080/"
        },
        "id": "7HnY8Tus-BxV",
        "outputId": "ad8fecf8-db77-4a07-85dd-7d29248d21a0"
      },
      "execution_count": 26,
      "outputs": [
        {
          "output_type": "stream",
          "name": "stdout",
          "text": [
            "上辺：10cm\n",
            "下辺：20cm\n",
            "高さ：5cm\n",
            " \n",
            "公式：台形の面積 =（上辺＋下辺）× 高さ ÷ 2\n",
            "答えは75.0cm²です。\n"
          ]
        }
      ]
    }
  ]
}