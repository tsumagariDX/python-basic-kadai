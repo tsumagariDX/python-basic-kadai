{
  "nbformat": 4,
  "nbformat_minor": 0,
  "metadata": {
    "colab": {
      "provenance": []
    },
    "kernelspec": {
      "name": "python3",
      "display_name": "Python 3"
    },
    "language_info": {
      "name": "python"
    }
  },
  "cells": [
    {
      "cell_type": "code",
      "source": [
        "var = 30\n",
        "\n",
        "if var%3 == 0 and var%5 == 0 :\n",
        " print(\"FizzBuzz\")\n",
        "\n",
        "elif  var%3 == 0:\n",
        "  print(\"Fizz\")\n",
        "\n",
        "elif var%5 == 0:\n",
        "  print(\"Buzz\")\n",
        "\n",
        "else :\n",
        "  print(var)"
      ],
      "metadata": {
        "colab": {
          "base_uri": "https://localhost:8080/"
        },
        "id": "lGaN7M09L2nj",
        "outputId": "d1c08107-c89e-4a3f-a4ff-96b15ebf0c48"
      },
      "execution_count": 53,
      "outputs": [
        {
          "output_type": "stream",
          "name": "stdout",
          "text": [
            "FizzBuzz\n"
          ]
        }
      ]
    }
  ]
}