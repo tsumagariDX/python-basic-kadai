{
  "nbformat": 4,
  "nbformat_minor": 0,
  "metadata": {
    "colab": {
      "provenance": []
    },
    "kernelspec": {
      "name": "python3",
      "display_name": "Python 3"
    },
    "language_info": {
      "name": "python"
    }
  },
  "cells": [
    {
      "cell_type": "code",
      "execution_count": 3,
      "metadata": {
        "id": "ToIkoN6GxlSm",
        "colab": {
          "base_uri": "https://localhost:8080/"
        },
        "outputId": "9d754189-08a3-46d8-a19b-f4698bbb7e17"
      },
      "outputs": [
        {
          "output_type": "stream",
          "name": "stdout",
          "text": [
            "110.00000000000001\n"
          ]
        }
      ],
      "source": [
        "def items_p (price,tax):\n",
        "  total = price * tax\n",
        "  print(total)\n",
        "\n",
        "items_p(100,1.1)\n"
      ]
    }
  ]
}